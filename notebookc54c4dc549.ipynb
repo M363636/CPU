{
 "cells": [
  {
   "cell_type": "code",
   "execution_count": null,
   "id": "ac772582",
   "metadata": {
    "papermill": {
     "duration": 0.003215,
     "end_time": "2022-02-09T21:44:38.436238",
     "exception": false,
     "start_time": "2022-02-09T21:44:38.433023",
     "status": "completed"
    },
    "tags": []
   },
   "outputs": [],
   "source": []
  }
 ],
 "metadata": {
  "kernelspec": {
   "display_name": "Python 3",
   "language": "python",
   "name": "python3"
  },
  "language_info": {
   "codemirror_mode": {
    "name": "ipython",
    "version": 3
   },
   "file_extension": ".py",
   "mimetype": "text/x-python",
   "name": "python",
   "nbconvert_exporter": "python",
   "pygments_lexer": "ipython3",
   "version": "3.7.12"
  },
  "papermill": {
   "default_parameters": {},
   "duration": 11.696151,
   "end_time": "2022-02-09T21:44:39.154225",
   "environment_variables": {},
   "exception": null,
   "input_path": "__notebook__.ipynb",
   "output_path": "__notebook__.ipynb",
   "parameters": {},
   "start_time": "2022-02-09T21:44:27.458074",
   "version": "2.3.3"
  }
 },
 "nbformat": 4,
 "nbformat_minor": 5
}
